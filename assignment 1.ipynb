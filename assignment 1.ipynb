{
 "cells": [
  {
   "cell_type": "code",
   "execution_count": 1,
   "metadata": {},
   "outputs": [],
   "source": [
    "l = [25,36,31,17,61,19,58,39,67,81]"
   ]
  },
  {
   "cell_type": "code",
   "execution_count": 10,
   "metadata": {},
   "outputs": [
    {
     "name": "stdout",
     "output_type": "stream",
     "text": [
      "prime 31\n",
      "prime 17\n",
      "prime 61\n",
      "prime 19\n",
      "prime 67\n",
      "even 36\n",
      "even 58\n"
     ]
    }
   ],
   "source": [
    "for i in range(0,10):\n",
    "\n",
    "    for divisor in range(2,l[i]):\n",
    "\n",
    "        if l[i] % divisor == 0:\n",
    "\n",
    "            break\n",
    "\n",
    "    if divisor == (l[i] - 1):\n",
    "\n",
    "        print(\"prime {}\".format(l[i]))\n",
    "        \n",
    "for i in l:\n",
    "    \n",
    "    if i%2 == 0:\n",
    "        \n",
    "        print(\"even\",i)"
   ]
  },
  {
   "cell_type": "code",
   "execution_count": null,
   "metadata": {},
   "outputs": [],
   "source": []
  }
 ],
 "metadata": {
  "kernelspec": {
   "display_name": "Python 3",
   "language": "python",
   "name": "python3"
  },
  "language_info": {
   "codemirror_mode": {
    "name": "ipython",
    "version": 3
   },
   "file_extension": ".py",
   "mimetype": "text/x-python",
   "name": "python",
   "nbconvert_exporter": "python",
   "pygments_lexer": "ipython3",
   "version": "3.8.5"
  }
 },
 "nbformat": 4,
 "nbformat_minor": 4
}
